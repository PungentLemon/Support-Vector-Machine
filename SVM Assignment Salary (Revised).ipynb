{
 "cells": [
  {
   "cell_type": "code",
   "execution_count": 1,
   "id": "6dd5add1",
   "metadata": {},
   "outputs": [],
   "source": [
    "import pandas as pd\n",
    "import numpy as np\n",
    "import matplotlib.pyplot as plt\n",
    "import seaborn as sns\n",
    "import gc"
   ]
  },
  {
   "cell_type": "code",
   "execution_count": 2,
   "id": "b06461e5",
   "metadata": {},
   "outputs": [],
   "source": [
    "df_train = pd.read_csv('SalaryData_Train(1).csv')\n",
    "df_test = pd.read_csv('SalaryData_Test(1).csv')"
   ]
  },
  {
   "cell_type": "code",
   "execution_count": 3,
   "id": "653337f4",
   "metadata": {},
   "outputs": [],
   "source": [
    "train_rep=df_train.copy()\n",
    "test_rep= df_test.copy()"
   ]
  },
  {
   "cell_type": "code",
   "execution_count": 4,
   "id": "df3ca143",
   "metadata": {},
   "outputs": [],
   "source": [
    "train_rep['tst']=0\n",
    "test_rep['tst']=1"
   ]
  },
  {
   "cell_type": "code",
   "execution_count": 5,
   "id": "3a4d96af",
   "metadata": {},
   "outputs": [
    {
     "data": {
      "text/plain": [
       "30"
      ]
     },
     "execution_count": 5,
     "metadata": {},
     "output_type": "execute_result"
    }
   ],
   "source": [
    "all_df= pd.concat([train_rep,test_rep],axis=0,copy=True)\n",
    "del train_rep\n",
    "del test_rep\n",
    "gc.collect()"
   ]
  },
  {
   "cell_type": "code",
   "execution_count": 6,
   "id": "366eb034",
   "metadata": {},
   "outputs": [],
   "source": [
    "# # split the all-data DF into training and testing again\n",
    "# training = all_df[all_df['tst']==0]\n",
    "# testing = all_df[all_df['tst']==1]\n",
    "\n",
    "# del all_df\n",
    "# gc.collect()"
   ]
  },
  {
   "cell_type": "markdown",
   "id": "5a77d32e",
   "metadata": {},
   "source": [
    "## EDA and Visualization"
   ]
  },
  {
   "cell_type": "code",
   "execution_count": 7,
   "id": "ab743c90",
   "metadata": {},
   "outputs": [
    {
     "data": {
      "text/html": [
       "<div>\n",
       "<style scoped>\n",
       "    .dataframe tbody tr th:only-of-type {\n",
       "        vertical-align: middle;\n",
       "    }\n",
       "\n",
       "    .dataframe tbody tr th {\n",
       "        vertical-align: top;\n",
       "    }\n",
       "\n",
       "    .dataframe thead th {\n",
       "        text-align: right;\n",
       "    }\n",
       "</style>\n",
       "<table border=\"1\" class=\"dataframe\">\n",
       "  <thead>\n",
       "    <tr style=\"text-align: right;\">\n",
       "      <th></th>\n",
       "      <th>age</th>\n",
       "      <th>workclass</th>\n",
       "      <th>education</th>\n",
       "      <th>educationno</th>\n",
       "      <th>maritalstatus</th>\n",
       "      <th>occupation</th>\n",
       "      <th>relationship</th>\n",
       "      <th>race</th>\n",
       "      <th>sex</th>\n",
       "      <th>capitalgain</th>\n",
       "      <th>capitalloss</th>\n",
       "      <th>hoursperweek</th>\n",
       "      <th>native</th>\n",
       "      <th>Salary</th>\n",
       "      <th>tst</th>\n",
       "    </tr>\n",
       "  </thead>\n",
       "  <tbody>\n",
       "    <tr>\n",
       "      <th>0</th>\n",
       "      <td>39</td>\n",
       "      <td>State-gov</td>\n",
       "      <td>Bachelors</td>\n",
       "      <td>13</td>\n",
       "      <td>Never-married</td>\n",
       "      <td>Adm-clerical</td>\n",
       "      <td>Not-in-family</td>\n",
       "      <td>White</td>\n",
       "      <td>Male</td>\n",
       "      <td>2174</td>\n",
       "      <td>0</td>\n",
       "      <td>40</td>\n",
       "      <td>United-States</td>\n",
       "      <td>&lt;=50K</td>\n",
       "      <td>0</td>\n",
       "    </tr>\n",
       "    <tr>\n",
       "      <th>1</th>\n",
       "      <td>50</td>\n",
       "      <td>Self-emp-not-inc</td>\n",
       "      <td>Bachelors</td>\n",
       "      <td>13</td>\n",
       "      <td>Married-civ-spouse</td>\n",
       "      <td>Exec-managerial</td>\n",
       "      <td>Husband</td>\n",
       "      <td>White</td>\n",
       "      <td>Male</td>\n",
       "      <td>0</td>\n",
       "      <td>0</td>\n",
       "      <td>13</td>\n",
       "      <td>United-States</td>\n",
       "      <td>&lt;=50K</td>\n",
       "      <td>0</td>\n",
       "    </tr>\n",
       "    <tr>\n",
       "      <th>2</th>\n",
       "      <td>38</td>\n",
       "      <td>Private</td>\n",
       "      <td>HS-grad</td>\n",
       "      <td>9</td>\n",
       "      <td>Divorced</td>\n",
       "      <td>Handlers-cleaners</td>\n",
       "      <td>Not-in-family</td>\n",
       "      <td>White</td>\n",
       "      <td>Male</td>\n",
       "      <td>0</td>\n",
       "      <td>0</td>\n",
       "      <td>40</td>\n",
       "      <td>United-States</td>\n",
       "      <td>&lt;=50K</td>\n",
       "      <td>0</td>\n",
       "    </tr>\n",
       "    <tr>\n",
       "      <th>3</th>\n",
       "      <td>53</td>\n",
       "      <td>Private</td>\n",
       "      <td>11th</td>\n",
       "      <td>7</td>\n",
       "      <td>Married-civ-spouse</td>\n",
       "      <td>Handlers-cleaners</td>\n",
       "      <td>Husband</td>\n",
       "      <td>Black</td>\n",
       "      <td>Male</td>\n",
       "      <td>0</td>\n",
       "      <td>0</td>\n",
       "      <td>40</td>\n",
       "      <td>United-States</td>\n",
       "      <td>&lt;=50K</td>\n",
       "      <td>0</td>\n",
       "    </tr>\n",
       "    <tr>\n",
       "      <th>4</th>\n",
       "      <td>28</td>\n",
       "      <td>Private</td>\n",
       "      <td>Bachelors</td>\n",
       "      <td>13</td>\n",
       "      <td>Married-civ-spouse</td>\n",
       "      <td>Prof-specialty</td>\n",
       "      <td>Wife</td>\n",
       "      <td>Black</td>\n",
       "      <td>Female</td>\n",
       "      <td>0</td>\n",
       "      <td>0</td>\n",
       "      <td>40</td>\n",
       "      <td>Cuba</td>\n",
       "      <td>&lt;=50K</td>\n",
       "      <td>0</td>\n",
       "    </tr>\n",
       "  </tbody>\n",
       "</table>\n",
       "</div>"
      ],
      "text/plain": [
       "   age          workclass   education  educationno        maritalstatus  \\\n",
       "0   39          State-gov   Bachelors           13        Never-married   \n",
       "1   50   Self-emp-not-inc   Bachelors           13   Married-civ-spouse   \n",
       "2   38            Private     HS-grad            9             Divorced   \n",
       "3   53            Private        11th            7   Married-civ-spouse   \n",
       "4   28            Private   Bachelors           13   Married-civ-spouse   \n",
       "\n",
       "           occupation    relationship    race      sex  capitalgain  \\\n",
       "0        Adm-clerical   Not-in-family   White     Male         2174   \n",
       "1     Exec-managerial         Husband   White     Male            0   \n",
       "2   Handlers-cleaners   Not-in-family   White     Male            0   \n",
       "3   Handlers-cleaners         Husband   Black     Male            0   \n",
       "4      Prof-specialty            Wife   Black   Female            0   \n",
       "\n",
       "   capitalloss  hoursperweek          native  Salary  tst  \n",
       "0            0            40   United-States   <=50K    0  \n",
       "1            0            13   United-States   <=50K    0  \n",
       "2            0            40   United-States   <=50K    0  \n",
       "3            0            40   United-States   <=50K    0  \n",
       "4            0            40            Cuba   <=50K    0  "
      ]
     },
     "execution_count": 7,
     "metadata": {},
     "output_type": "execute_result"
    }
   ],
   "source": [
    "all_df.head()"
   ]
  },
  {
   "cell_type": "code",
   "execution_count": 8,
   "id": "443af723",
   "metadata": {},
   "outputs": [
    {
     "data": {
      "text/plain": [
       "age              0\n",
       "workclass        0\n",
       "education        0\n",
       "educationno      0\n",
       "maritalstatus    0\n",
       "occupation       0\n",
       "relationship     0\n",
       "race             0\n",
       "sex              0\n",
       "capitalgain      0\n",
       "capitalloss      0\n",
       "hoursperweek     0\n",
       "native           0\n",
       "Salary           0\n",
       "tst              0\n",
       "dtype: int64"
      ]
     },
     "execution_count": 8,
     "metadata": {},
     "output_type": "execute_result"
    }
   ],
   "source": [
    "all_df.isnull().sum()"
   ]
  },
  {
   "cell_type": "code",
   "execution_count": 9,
   "id": "535de3bb",
   "metadata": {},
   "outputs": [
    {
     "data": {
      "text/plain": [
       "Index(['age', 'workclass', 'education', 'educationno', 'maritalstatus',\n",
       "       'occupation', 'relationship', 'race', 'sex', 'capitalgain',\n",
       "       'capitalloss', 'hoursperweek', 'native', 'Salary', 'tst'],\n",
       "      dtype='object')"
      ]
     },
     "execution_count": 9,
     "metadata": {},
     "output_type": "execute_result"
    }
   ],
   "source": [
    "all_df.columns"
   ]
  },
  {
   "cell_type": "code",
   "execution_count": 10,
   "id": "f7d89a97",
   "metadata": {},
   "outputs": [],
   "source": [
    "df_copy= all_df"
   ]
  },
  {
   "cell_type": "code",
   "execution_count": 11,
   "id": "c51d21d6",
   "metadata": {},
   "outputs": [],
   "source": [
    "def len_var(n):\n",
    "    x=[]\n",
    "    for i in range(1,n+1):\n",
    "        x.append(i)\n",
    "    return tuple(x)\n"
   ]
  },
  {
   "cell_type": "code",
   "execution_count": 12,
   "id": "02df245d",
   "metadata": {},
   "outputs": [],
   "source": [
    "df_copy['workclass'].replace((' State-gov', ' Self-emp-not-inc', ' Private', ' Federal-gov',\n",
    "       ' Local-gov', ' Self-emp-inc', ' Without-pay'),\n",
    "                                      (len_var(7)), inplace=True)\n",
    "\n",
    "\n",
    "df_copy['education'].replace((' Bachelors', ' HS-grad', ' 11th', ' Masters', ' 9th',\n",
    "                       ' Some-college', ' Assoc-acdm', ' 7th-8th', ' Doctorate',\n",
    "                       ' Assoc-voc', ' Prof-school', ' 5th-6th', ' 10th', ' Preschool',\n",
    "                       ' 12th', ' 1st-4th'),\n",
    "                             (len_var(16)),inplace=True)\n",
    "\n",
    "df_copy['maritalstatus'].replace((' Never-married', ' Married-civ-spouse', ' Divorced',\n",
    "                       ' Married-spouse-absent', ' Separated', ' Married-AF-spouse',' Widowed'),\n",
    "                                         (len_var(7)),inplace=True)\n",
    "\n",
    "df_copy['occupation'].replace((' Adm-clerical', ' Exec-managerial', ' Handlers-cleaners',\n",
    "                       ' Prof-specialty', ' Other-service', ' Sales', ' Transport-moving',\n",
    "                       ' Farming-fishing', ' Machine-op-inspct', ' Tech-support',\n",
    "                       ' Craft-repair', ' Protective-serv', ' Armed-Forces',\n",
    "                       ' Priv-house-serv'),\n",
    "                              (len_var(14)),inplace=True)\n",
    "\n",
    "df_copy['relationship'].replace((' Not-in-family', ' Husband', ' Wife', ' Own-child', ' Unmarried',\n",
    "                           ' Other-relative'),\n",
    "                                (len_var(6)),inplace=True)\n",
    "\n",
    "df_copy['race'].replace((' White', ' Black', ' Asian-Pac-Islander', ' Amer-Indian-Eskimo',\n",
    "                   ' Other'),\n",
    "                        (len_var(5)),inplace=True)\n",
    "\n",
    "df_copy['sex'].replace((' Male', ' Female'),\n",
    "                       (1,2),inplace=True)\n",
    "\n",
    "df_copy['native'].replace((' United-States', ' Cuba', ' Jamaica', ' India', ' Mexico',\n",
    "                       ' Puerto-Rico', ' Honduras', ' England', ' Canada', ' Germany',\n",
    "                       ' Iran', ' Philippines', ' Poland', ' Columbia', ' Cambodia',\n",
    "                       ' Thailand', ' Ecuador', ' Laos', ' Taiwan', ' Haiti', ' Portugal',\n",
    "                       ' Dominican-Republic', ' El-Salvador', ' France', ' Guatemala',\n",
    "                       ' Italy', ' China', ' South', ' Japan', ' Yugoslavia', ' Peru',\n",
    "                       ' Outlying-US(Guam-USVI-etc)', ' Scotland', ' Trinadad&Tobago',\n",
    "                       ' Greece', ' Nicaragua', ' Vietnam', ' Hong', ' Ireland',\n",
    "                       ' Hungary'),\n",
    "                          (len_var(40)),inplace=True)\n",
    "\n",
    "df_copy['Salary'].replace((' <=50K', ' >50K'),\n",
    "                          (1,2),inplace=True)\n"
   ]
  },
  {
   "cell_type": "code",
   "execution_count": 13,
   "id": "504ce5dd",
   "metadata": {},
   "outputs": [
    {
     "name": "stdout",
     "output_type": "stream",
     "text": [
      "<class 'pandas.core.frame.DataFrame'>\n",
      "Int64Index: 45221 entries, 0 to 15059\n",
      "Data columns (total 15 columns):\n",
      " #   Column         Non-Null Count  Dtype\n",
      "---  ------         --------------  -----\n",
      " 0   age            45221 non-null  int64\n",
      " 1   workclass      45221 non-null  int64\n",
      " 2   education      45221 non-null  int64\n",
      " 3   educationno    45221 non-null  int64\n",
      " 4   maritalstatus  45221 non-null  int64\n",
      " 5   occupation     45221 non-null  int64\n",
      " 6   relationship   45221 non-null  int64\n",
      " 7   race           45221 non-null  int64\n",
      " 8   sex            45221 non-null  int64\n",
      " 9   capitalgain    45221 non-null  int64\n",
      " 10  capitalloss    45221 non-null  int64\n",
      " 11  hoursperweek   45221 non-null  int64\n",
      " 12  native         45221 non-null  int64\n",
      " 13  Salary         45221 non-null  int64\n",
      " 14  tst            45221 non-null  int64\n",
      "dtypes: int64(15)\n",
      "memory usage: 5.5 MB\n"
     ]
    }
   ],
   "source": [
    "df_copy.info()"
   ]
  },
  {
   "cell_type": "code",
   "execution_count": 14,
   "id": "c3e4ea55",
   "metadata": {},
   "outputs": [
    {
     "data": {
      "text/plain": [
       "<AxesSubplot:>"
      ]
     },
     "execution_count": 14,
     "metadata": {},
     "output_type": "execute_result"
    },
    {
     "data": {
      "image/png": "[encoded data removed]",
      "text/plain": [
       "<Figure size 1440x1080 with 2 Axes>"
      ]
     },
     "metadata": {
      "needs_background": "light"
     },
     "output_type": "display_data"
    }
   ],
   "source": [
    "plt.figure(figsize=(20,15))\n",
    "sns.heatmap(df_copy.corr(),annot=True)"
   ]
  },
  {
   "cell_type": "markdown",
   "id": "0b9018a8",
   "metadata": {},
   "source": [
    "Here we can see that Salary is highly correlated with age, educationNo,sex, relationship and hoursPerWeek"
   ]
  },
  {
   "cell_type": "code",
   "execution_count": 15,
   "id": "fe08d65a",
   "metadata": {},
   "outputs": [],
   "source": [
    "#taking sample of the dataset\n",
    "df_sample= df_copy.sample(frac=.02)"
   ]
  },
  {
   "cell_type": "code",
   "execution_count": 16,
   "id": "58b70602",
   "metadata": {},
   "outputs": [
    {
     "data": {
      "text/html": [
       "<div>\n",
       "<style scoped>\n",
       "    .dataframe tbody tr th:only-of-type {\n",
       "        vertical-align: middle;\n",
       "    }\n",
       "\n",
       "    .dataframe tbody tr th {\n",
       "        vertical-align: top;\n",
       "    }\n",
       "\n",
       "    .dataframe thead th {\n",
       "        text-align: right;\n",
       "    }\n",
       "</style>\n",
       "<table border=\"1\" class=\"dataframe\">\n",
       "  <thead>\n",
       "    <tr style=\"text-align: right;\">\n",
       "      <th></th>\n",
       "      <th>age</th>\n",
       "      <th>workclass</th>\n",
       "      <th>education</th>\n",
       "      <th>educationno</th>\n",
       "      <th>maritalstatus</th>\n",
       "      <th>occupation</th>\n",
       "      <th>relationship</th>\n",
       "      <th>race</th>\n",
       "      <th>sex</th>\n",
       "      <th>capitalgain</th>\n",
       "      <th>capitalloss</th>\n",
       "      <th>hoursperweek</th>\n",
       "      <th>native</th>\n",
       "      <th>Salary</th>\n",
       "      <th>tst</th>\n",
       "    </tr>\n",
       "  </thead>\n",
       "  <tbody>\n",
       "    <tr>\n",
       "      <th>18737</th>\n",
       "      <td>37</td>\n",
       "      <td>3</td>\n",
       "      <td>2</td>\n",
       "      <td>9</td>\n",
       "      <td>3</td>\n",
       "      <td>9</td>\n",
       "      <td>5</td>\n",
       "      <td>2</td>\n",
       "      <td>2</td>\n",
       "      <td>0</td>\n",
       "      <td>0</td>\n",
       "      <td>40</td>\n",
       "      <td>1</td>\n",
       "      <td>1</td>\n",
       "      <td>0</td>\n",
       "    </tr>\n",
       "    <tr>\n",
       "      <th>11009</th>\n",
       "      <td>37</td>\n",
       "      <td>3</td>\n",
       "      <td>6</td>\n",
       "      <td>10</td>\n",
       "      <td>2</td>\n",
       "      <td>2</td>\n",
       "      <td>3</td>\n",
       "      <td>1</td>\n",
       "      <td>2</td>\n",
       "      <td>0</td>\n",
       "      <td>0</td>\n",
       "      <td>45</td>\n",
       "      <td>1</td>\n",
       "      <td>2</td>\n",
       "      <td>0</td>\n",
       "    </tr>\n",
       "    <tr>\n",
       "      <th>19586</th>\n",
       "      <td>28</td>\n",
       "      <td>3</td>\n",
       "      <td>6</td>\n",
       "      <td>10</td>\n",
       "      <td>2</td>\n",
       "      <td>11</td>\n",
       "      <td>2</td>\n",
       "      <td>1</td>\n",
       "      <td>1</td>\n",
       "      <td>0</td>\n",
       "      <td>0</td>\n",
       "      <td>45</td>\n",
       "      <td>1</td>\n",
       "      <td>1</td>\n",
       "      <td>0</td>\n",
       "    </tr>\n",
       "    <tr>\n",
       "      <th>9063</th>\n",
       "      <td>30</td>\n",
       "      <td>5</td>\n",
       "      <td>2</td>\n",
       "      <td>9</td>\n",
       "      <td>2</td>\n",
       "      <td>1</td>\n",
       "      <td>2</td>\n",
       "      <td>2</td>\n",
       "      <td>1</td>\n",
       "      <td>0</td>\n",
       "      <td>0</td>\n",
       "      <td>40</td>\n",
       "      <td>1</td>\n",
       "      <td>1</td>\n",
       "      <td>0</td>\n",
       "    </tr>\n",
       "    <tr>\n",
       "      <th>4737</th>\n",
       "      <td>43</td>\n",
       "      <td>2</td>\n",
       "      <td>1</td>\n",
       "      <td>13</td>\n",
       "      <td>2</td>\n",
       "      <td>2</td>\n",
       "      <td>2</td>\n",
       "      <td>1</td>\n",
       "      <td>1</td>\n",
       "      <td>0</td>\n",
       "      <td>0</td>\n",
       "      <td>60</td>\n",
       "      <td>1</td>\n",
       "      <td>1</td>\n",
       "      <td>1</td>\n",
       "    </tr>\n",
       "    <tr>\n",
       "      <th>...</th>\n",
       "      <td>...</td>\n",
       "      <td>...</td>\n",
       "      <td>...</td>\n",
       "      <td>...</td>\n",
       "      <td>...</td>\n",
       "      <td>...</td>\n",
       "      <td>...</td>\n",
       "      <td>...</td>\n",
       "      <td>...</td>\n",
       "      <td>...</td>\n",
       "      <td>...</td>\n",
       "      <td>...</td>\n",
       "      <td>...</td>\n",
       "      <td>...</td>\n",
       "      <td>...</td>\n",
       "    </tr>\n",
       "    <tr>\n",
       "      <th>4889</th>\n",
       "      <td>39</td>\n",
       "      <td>3</td>\n",
       "      <td>3</td>\n",
       "      <td>7</td>\n",
       "      <td>3</td>\n",
       "      <td>5</td>\n",
       "      <td>5</td>\n",
       "      <td>1</td>\n",
       "      <td>2</td>\n",
       "      <td>0</td>\n",
       "      <td>0</td>\n",
       "      <td>40</td>\n",
       "      <td>1</td>\n",
       "      <td>1</td>\n",
       "      <td>1</td>\n",
       "    </tr>\n",
       "    <tr>\n",
       "      <th>7536</th>\n",
       "      <td>29</td>\n",
       "      <td>3</td>\n",
       "      <td>6</td>\n",
       "      <td>10</td>\n",
       "      <td>1</td>\n",
       "      <td>6</td>\n",
       "      <td>1</td>\n",
       "      <td>1</td>\n",
       "      <td>1</td>\n",
       "      <td>0</td>\n",
       "      <td>0</td>\n",
       "      <td>40</td>\n",
       "      <td>1</td>\n",
       "      <td>1</td>\n",
       "      <td>1</td>\n",
       "    </tr>\n",
       "    <tr>\n",
       "      <th>23380</th>\n",
       "      <td>38</td>\n",
       "      <td>3</td>\n",
       "      <td>2</td>\n",
       "      <td>9</td>\n",
       "      <td>2</td>\n",
       "      <td>3</td>\n",
       "      <td>2</td>\n",
       "      <td>1</td>\n",
       "      <td>1</td>\n",
       "      <td>0</td>\n",
       "      <td>0</td>\n",
       "      <td>40</td>\n",
       "      <td>1</td>\n",
       "      <td>1</td>\n",
       "      <td>0</td>\n",
       "    </tr>\n",
       "    <tr>\n",
       "      <th>12067</th>\n",
       "      <td>53</td>\n",
       "      <td>3</td>\n",
       "      <td>2</td>\n",
       "      <td>9</td>\n",
       "      <td>1</td>\n",
       "      <td>1</td>\n",
       "      <td>6</td>\n",
       "      <td>1</td>\n",
       "      <td>1</td>\n",
       "      <td>0</td>\n",
       "      <td>0</td>\n",
       "      <td>35</td>\n",
       "      <td>1</td>\n",
       "      <td>1</td>\n",
       "      <td>0</td>\n",
       "    </tr>\n",
       "    <tr>\n",
       "      <th>1311</th>\n",
       "      <td>45</td>\n",
       "      <td>3</td>\n",
       "      <td>7</td>\n",
       "      <td>12</td>\n",
       "      <td>1</td>\n",
       "      <td>2</td>\n",
       "      <td>1</td>\n",
       "      <td>1</td>\n",
       "      <td>2</td>\n",
       "      <td>0</td>\n",
       "      <td>0</td>\n",
       "      <td>40</td>\n",
       "      <td>1</td>\n",
       "      <td>1</td>\n",
       "      <td>1</td>\n",
       "    </tr>\n",
       "  </tbody>\n",
       "</table>\n",
       "<p>904 rows × 15 columns</p>\n",
       "</div>"
      ],
      "text/plain": [
       "       age  workclass  education  educationno  maritalstatus  occupation  \\\n",
       "18737   37          3          2            9              3           9   \n",
       "11009   37          3          6           10              2           2   \n",
       "19586   28          3          6           10              2          11   \n",
       "9063    30          5          2            9              2           1   \n",
       "4737    43          2          1           13              2           2   \n",
       "...    ...        ...        ...          ...            ...         ...   \n",
       "4889    39          3          3            7              3           5   \n",
       "7536    29          3          6           10              1           6   \n",
       "23380   38          3          2            9              2           3   \n",
       "12067   53          3          2            9              1           1   \n",
       "1311    45          3          7           12              1           2   \n",
       "\n",
       "       relationship  race  sex  capitalgain  capitalloss  hoursperweek  \\\n",
       "18737             5     2    2            0            0            40   \n",
       "11009             3     1    2            0            0            45   \n",
       "19586             2     1    1            0            0            45   \n",
       "9063              2     2    1            0            0            40   \n",
       "4737              2     1    1            0            0            60   \n",
       "...             ...   ...  ...          ...          ...           ...   \n",
       "4889              5     1    2            0            0            40   \n",
       "7536              1     1    1            0            0            40   \n",
       "23380             2     1    1            0            0            40   \n",
       "12067             6     1    1            0            0            35   \n",
       "1311              1     1    2            0            0            40   \n",
       "\n",
       "       native  Salary  tst  \n",
       "18737       1       1    0  \n",
       "11009       1       2    0  \n",
       "19586       1       1    0  \n",
       "9063        1       1    0  \n",
       "4737        1       1    1  \n",
       "...       ...     ...  ...  \n",
       "4889        1       1    1  \n",
       "7536        1       1    1  \n",
       "23380       1       1    0  \n",
       "12067       1       1    0  \n",
       "1311        1       1    1  \n",
       "\n",
       "[904 rows x 15 columns]"
      ]
     },
     "execution_count": 16,
     "metadata": {},
     "output_type": "execute_result"
    }
   ],
   "source": [
    "df_sample"
   ]
  },
  {
   "cell_type": "code",
   "execution_count": 17,
   "id": "67f87e8f",
   "metadata": {},
   "outputs": [
    {
     "data": {
      "text/plain": [
       "<seaborn.axisgrid.FacetGrid at 0x1e5dee64fa0>"
      ]
     },
     "execution_count": 17,
     "metadata": {},
     "output_type": "execute_result"
    },
    {
     "data": {
      "text/plain": [
       "<Figure size 1440x1080 with 0 Axes>"
      ]
     },
     "metadata": {},
     "output_type": "display_data"
    },
    {
     "data": {
      "image/png": "[encoded data removed]",
      "text/plain": [
       "<Figure size 430x360 with 1 Axes>"
      ]
     },
     "metadata": {
      "needs_background": "light"
     },
     "output_type": "display_data"
    }
   ],
   "source": [
    "plt.figure(figsize=(20,15))\n",
    "sns.catplot(x='Salary',y='age',hue='educationno',\n",
    "            palette='light:b',kind='box',data=df_sample)"
   ]
  },
  {
   "cell_type": "markdown",
   "id": "8761e8a8",
   "metadata": {},
   "source": [
    "We can see that people with good education have high chances of earning above 50k later in the career. Majority of the people earning salary below 50k are below the age of 45 while people earning salary above 50k are in the age group of 45-55."
   ]
  },
  {
   "cell_type": "code",
   "execution_count": 18,
   "id": "28ebf6cb",
   "metadata": {},
   "outputs": [
    {
     "data": {
      "text/plain": [
       "<seaborn.axisgrid.FacetGrid at 0x1e5df6abb80>"
      ]
     },
     "execution_count": 18,
     "metadata": {},
     "output_type": "execute_result"
    },
    {
     "data": {
      "text/plain": [
       "<Figure size 1440x1080 with 0 Axes>"
      ]
     },
     "metadata": {},
     "output_type": "display_data"
    },
    {
     "data": {
      "image/png": "[encoded data removed]",
      "text/plain": [
       "<Figure size 402.375x360 with 1 Axes>"
      ]
     },
     "metadata": {
      "needs_background": "light"
     },
     "output_type": "display_data"
    }
   ],
   "source": [
    "plt.figure(figsize=(20,15))\n",
    "sns.catplot(x='sex',y='age',hue='race',\n",
    "            kind='box',data=df_sample)"
   ]
  },
  {
   "cell_type": "markdown",
   "id": "a15ee368",
   "metadata": {},
   "source": [
    "More Men are engaged in occupation compared to women irrespective of the race"
   ]
  },
  {
   "cell_type": "code",
   "execution_count": 19,
   "id": "76176386",
   "metadata": {},
   "outputs": [
    {
     "data": {
      "text/plain": [
       "<seaborn.axisgrid.FacetGrid at 0x1e5df912fa0>"
      ]
     },
     "execution_count": 19,
     "metadata": {},
     "output_type": "execute_result"
    },
    {
     "data": {
      "text/plain": [
       "<Figure size 1440x1080 with 0 Axes>"
      ]
     },
     "metadata": {},
     "output_type": "display_data"
    },
    {
     "data": {
      "image/png": "[encoded data removed]",
      "text/plain": [
       "<Figure size 402.375x360 with 1 Axes>"
      ]
     },
     "metadata": {
      "needs_background": "light"
     },
     "output_type": "display_data"
    }
   ],
   "source": [
    "plt.figure(figsize=(20,15))\n",
    "sns.catplot(x='maritalstatus',y='relationship',hue='Salary',\n",
    "            kind='bar',data=df_sample)"
   ]
  },
  {
   "cell_type": "markdown",
   "id": "e619d033",
   "metadata": {},
   "source": [
    "Maximum people in group of 'Married-spouse-absent', 'Widowed' and 'Separated' tend to earn salary below 50k"
   ]
  },
  {
   "cell_type": "code",
   "execution_count": 20,
   "id": "6ebb2669",
   "metadata": {},
   "outputs": [
    {
     "data": {
      "text/plain": [
       "<seaborn.axisgrid.FacetGrid at 0x1e5dfcf0fa0>"
      ]
     },
     "execution_count": 20,
     "metadata": {},
     "output_type": "execute_result"
    },
    {
     "data": {
      "text/plain": [
       "<Figure size 1440x1080 with 0 Axes>"
      ]
     },
     "metadata": {},
     "output_type": "display_data"
    },
    {
     "data": {
      "image/png": "[encoded data removed]",
      "text/plain": [
       "<Figure size 402.375x360 with 1 Axes>"
      ]
     },
     "metadata": {
      "needs_background": "light"
     },
     "output_type": "display_data"
    }
   ],
   "source": [
    "plt.figure(figsize=(20,15))\n",
    "sns.catplot(x='native',hue='sex',\n",
    "            kind='count',data=df_sample)"
   ]
  },
  {
   "cell_type": "markdown",
   "id": "27759f1c",
   "metadata": {},
   "source": [
    "Women in US tends to earn above 50k while men in US tends to earn below 50k. "
   ]
  },
  {
   "cell_type": "code",
   "execution_count": 21,
   "id": "16063b21",
   "metadata": {},
   "outputs": [
    {
     "data": {
      "text/plain": [
       "<seaborn.axisgrid.FacetGrid at 0x1e5dee61160>"
      ]
     },
     "execution_count": 21,
     "metadata": {},
     "output_type": "execute_result"
    },
    {
     "data": {
      "text/plain": [
       "<Figure size 1440x1080 with 0 Axes>"
      ]
     },
     "metadata": {},
     "output_type": "display_data"
    },
    {
     "data": {
      "image/png": "[encoded data removed]",
      "text/plain": [
       "<Figure size 402.375x360 with 1 Axes>"
      ]
     },
     "metadata": {
      "needs_background": "light"
     },
     "output_type": "display_data"
    }
   ],
   "source": [
    "plt.figure(figsize=(20,15))\n",
    "sns.catplot(x='hoursperweek',hue='sex',\n",
    "            kind='count',data=df_sample)"
   ]
  },
  {
   "cell_type": "markdown",
   "id": "c2516a7f",
   "metadata": {},
   "source": [
    "Men tend to work more hours as compared to women"
   ]
  },
  {
   "cell_type": "code",
   "execution_count": 49,
   "id": "22f1cbe5",
   "metadata": {},
   "outputs": [
    {
     "data": {
      "text/plain": [
       "4064"
      ]
     },
     "execution_count": 49,
     "metadata": {},
     "output_type": "execute_result"
    }
   ],
   "source": [
    "# split the all-data DF into training and testing again\n",
    "training = df_sample[df_sample['tst']==0]\n",
    "testing = df_sample[df_sample['tst']==1]\n",
    "\n",
    "\n",
    "gc.collect()"
   ]
  },
  {
   "cell_type": "code",
   "execution_count": 51,
   "id": "6c7ae7be",
   "metadata": {},
   "outputs": [
    {
     "data": {
      "text/html": [
       "<div>\n",
       "<style scoped>\n",
       "    .dataframe tbody tr th:only-of-type {\n",
       "        vertical-align: middle;\n",
       "    }\n",
       "\n",
       "    .dataframe tbody tr th {\n",
       "        vertical-align: top;\n",
       "    }\n",
       "\n",
       "    .dataframe thead th {\n",
       "        text-align: right;\n",
       "    }\n",
       "</style>\n",
       "<table border=\"1\" class=\"dataframe\">\n",
       "  <thead>\n",
       "    <tr style=\"text-align: right;\">\n",
       "      <th></th>\n",
       "      <th>age</th>\n",
       "      <th>workclass</th>\n",
       "      <th>education</th>\n",
       "      <th>educationno</th>\n",
       "      <th>maritalstatus</th>\n",
       "      <th>occupation</th>\n",
       "      <th>relationship</th>\n",
       "      <th>race</th>\n",
       "      <th>sex</th>\n",
       "      <th>capitalgain</th>\n",
       "      <th>capitalloss</th>\n",
       "      <th>hoursperweek</th>\n",
       "      <th>native</th>\n",
       "      <th>Salary</th>\n",
       "    </tr>\n",
       "  </thead>\n",
       "  <tbody>\n",
       "    <tr>\n",
       "      <th>4737</th>\n",
       "      <td>43</td>\n",
       "      <td>2</td>\n",
       "      <td>1</td>\n",
       "      <td>13</td>\n",
       "      <td>2</td>\n",
       "      <td>2</td>\n",
       "      <td>2</td>\n",
       "      <td>1</td>\n",
       "      <td>1</td>\n",
       "      <td>0</td>\n",
       "      <td>0</td>\n",
       "      <td>60</td>\n",
       "      <td>1</td>\n",
       "      <td>1</td>\n",
       "    </tr>\n",
       "    <tr>\n",
       "      <th>6710</th>\n",
       "      <td>29</td>\n",
       "      <td>3</td>\n",
       "      <td>10</td>\n",
       "      <td>11</td>\n",
       "      <td>2</td>\n",
       "      <td>1</td>\n",
       "      <td>2</td>\n",
       "      <td>1</td>\n",
       "      <td>1</td>\n",
       "      <td>0</td>\n",
       "      <td>0</td>\n",
       "      <td>40</td>\n",
       "      <td>1</td>\n",
       "      <td>1</td>\n",
       "    </tr>\n",
       "    <tr>\n",
       "      <th>11271</th>\n",
       "      <td>38</td>\n",
       "      <td>2</td>\n",
       "      <td>1</td>\n",
       "      <td>13</td>\n",
       "      <td>1</td>\n",
       "      <td>5</td>\n",
       "      <td>4</td>\n",
       "      <td>1</td>\n",
       "      <td>2</td>\n",
       "      <td>0</td>\n",
       "      <td>0</td>\n",
       "      <td>20</td>\n",
       "      <td>1</td>\n",
       "      <td>1</td>\n",
       "    </tr>\n",
       "    <tr>\n",
       "      <th>9460</th>\n",
       "      <td>58</td>\n",
       "      <td>4</td>\n",
       "      <td>4</td>\n",
       "      <td>14</td>\n",
       "      <td>2</td>\n",
       "      <td>10</td>\n",
       "      <td>2</td>\n",
       "      <td>3</td>\n",
       "      <td>1</td>\n",
       "      <td>7688</td>\n",
       "      <td>0</td>\n",
       "      <td>40</td>\n",
       "      <td>27</td>\n",
       "      <td>2</td>\n",
       "    </tr>\n",
       "    <tr>\n",
       "      <th>3334</th>\n",
       "      <td>45</td>\n",
       "      <td>3</td>\n",
       "      <td>5</td>\n",
       "      <td>5</td>\n",
       "      <td>2</td>\n",
       "      <td>3</td>\n",
       "      <td>2</td>\n",
       "      <td>1</td>\n",
       "      <td>1</td>\n",
       "      <td>0</td>\n",
       "      <td>0</td>\n",
       "      <td>40</td>\n",
       "      <td>1</td>\n",
       "      <td>1</td>\n",
       "    </tr>\n",
       "    <tr>\n",
       "      <th>...</th>\n",
       "      <td>...</td>\n",
       "      <td>...</td>\n",
       "      <td>...</td>\n",
       "      <td>...</td>\n",
       "      <td>...</td>\n",
       "      <td>...</td>\n",
       "      <td>...</td>\n",
       "      <td>...</td>\n",
       "      <td>...</td>\n",
       "      <td>...</td>\n",
       "      <td>...</td>\n",
       "      <td>...</td>\n",
       "      <td>...</td>\n",
       "      <td>...</td>\n",
       "    </tr>\n",
       "    <tr>\n",
       "      <th>688</th>\n",
       "      <td>37</td>\n",
       "      <td>1</td>\n",
       "      <td>1</td>\n",
       "      <td>13</td>\n",
       "      <td>2</td>\n",
       "      <td>1</td>\n",
       "      <td>3</td>\n",
       "      <td>2</td>\n",
       "      <td>2</td>\n",
       "      <td>0</td>\n",
       "      <td>0</td>\n",
       "      <td>45</td>\n",
       "      <td>1</td>\n",
       "      <td>2</td>\n",
       "    </tr>\n",
       "    <tr>\n",
       "      <th>10369</th>\n",
       "      <td>31</td>\n",
       "      <td>3</td>\n",
       "      <td>2</td>\n",
       "      <td>9</td>\n",
       "      <td>1</td>\n",
       "      <td>6</td>\n",
       "      <td>4</td>\n",
       "      <td>1</td>\n",
       "      <td>1</td>\n",
       "      <td>0</td>\n",
       "      <td>0</td>\n",
       "      <td>40</td>\n",
       "      <td>1</td>\n",
       "      <td>1</td>\n",
       "    </tr>\n",
       "    <tr>\n",
       "      <th>4889</th>\n",
       "      <td>39</td>\n",
       "      <td>3</td>\n",
       "      <td>3</td>\n",
       "      <td>7</td>\n",
       "      <td>3</td>\n",
       "      <td>5</td>\n",
       "      <td>5</td>\n",
       "      <td>1</td>\n",
       "      <td>2</td>\n",
       "      <td>0</td>\n",
       "      <td>0</td>\n",
       "      <td>40</td>\n",
       "      <td>1</td>\n",
       "      <td>1</td>\n",
       "    </tr>\n",
       "    <tr>\n",
       "      <th>7536</th>\n",
       "      <td>29</td>\n",
       "      <td>3</td>\n",
       "      <td>6</td>\n",
       "      <td>10</td>\n",
       "      <td>1</td>\n",
       "      <td>6</td>\n",
       "      <td>1</td>\n",
       "      <td>1</td>\n",
       "      <td>1</td>\n",
       "      <td>0</td>\n",
       "      <td>0</td>\n",
       "      <td>40</td>\n",
       "      <td>1</td>\n",
       "      <td>1</td>\n",
       "    </tr>\n",
       "    <tr>\n",
       "      <th>1311</th>\n",
       "      <td>45</td>\n",
       "      <td>3</td>\n",
       "      <td>7</td>\n",
       "      <td>12</td>\n",
       "      <td>1</td>\n",
       "      <td>2</td>\n",
       "      <td>1</td>\n",
       "      <td>1</td>\n",
       "      <td>2</td>\n",
       "      <td>0</td>\n",
       "      <td>0</td>\n",
       "      <td>40</td>\n",
       "      <td>1</td>\n",
       "      <td>1</td>\n",
       "    </tr>\n",
       "  </tbody>\n",
       "</table>\n",
       "<p>310 rows × 14 columns</p>\n",
       "</div>"
      ],
      "text/plain": [
       "       age  workclass  education  educationno  maritalstatus  occupation  \\\n",
       "4737    43          2          1           13              2           2   \n",
       "6710    29          3         10           11              2           1   \n",
       "11271   38          2          1           13              1           5   \n",
       "9460    58          4          4           14              2          10   \n",
       "3334    45          3          5            5              2           3   \n",
       "...    ...        ...        ...          ...            ...         ...   \n",
       "688     37          1          1           13              2           1   \n",
       "10369   31          3          2            9              1           6   \n",
       "4889    39          3          3            7              3           5   \n",
       "7536    29          3          6           10              1           6   \n",
       "1311    45          3          7           12              1           2   \n",
       "\n",
       "       relationship  race  sex  capitalgain  capitalloss  hoursperweek  \\\n",
       "4737              2     1    1            0            0            60   \n",
       "6710              2     1    1            0            0            40   \n",
       "11271             4     1    2            0            0            20   \n",
       "9460              2     3    1         7688            0            40   \n",
       "3334              2     1    1            0            0            40   \n",
       "...             ...   ...  ...          ...          ...           ...   \n",
       "688               3     2    2            0            0            45   \n",
       "10369             4     1    1            0            0            40   \n",
       "4889              5     1    2            0            0            40   \n",
       "7536              1     1    1            0            0            40   \n",
       "1311              1     1    2            0            0            40   \n",
       "\n",
       "       native  Salary  \n",
       "4737        1       1  \n",
       "6710        1       1  \n",
       "11271       1       1  \n",
       "9460       27       2  \n",
       "3334        1       1  \n",
       "...       ...     ...  \n",
       "688         1       2  \n",
       "10369       1       1  \n",
       "4889        1       1  \n",
       "7536        1       1  \n",
       "1311        1       1  \n",
       "\n",
       "[310 rows x 14 columns]"
      ]
     },
     "execution_count": 51,
     "metadata": {},
     "output_type": "execute_result"
    }
   ],
   "source": [
    "training=training.iloc[:,:14]\n",
    "testing=testing.iloc[:,:14]"
   ]
  },
  {
   "cell_type": "code",
   "execution_count": 52,
   "id": "0b840357",
   "metadata": {},
   "outputs": [],
   "source": [
    "x_train=training.iloc[:,:13]\n",
    "x_test=testing.iloc[:,:13]\n",
    "y_train=training.iloc[:,13]\n",
    "y_test=testing.iloc[:,13]"
   ]
  },
  {
   "cell_type": "code",
   "execution_count": 53,
   "id": "2358dc5e",
   "metadata": {},
   "outputs": [],
   "source": [
    "from sklearn.svm import SVC"
   ]
  },
  {
   "cell_type": "code",
   "execution_count": 54,
   "id": "79e02331",
   "metadata": {},
   "outputs": [
    {
     "data": {
      "text/plain": [
       "0.7935483870967742"
      ]
     },
     "execution_count": 54,
     "metadata": {},
     "output_type": "execute_result"
    }
   ],
   "source": [
    "#kernel=linear\n",
    "model_li=SVC(kernel='linear')\n",
    "model_li.fit(x_train,y_train)\n",
    "pred_li=model_li.predict(x_test)\n",
    "np.mean(pred_li==y_test)"
   ]
  },
  {
   "cell_type": "code",
   "execution_count": 55,
   "id": "6b148677",
   "metadata": {},
   "outputs": [
    {
     "data": {
      "text/plain": [
       "0.7903225806451613"
      ]
     },
     "execution_count": 55,
     "metadata": {},
     "output_type": "execute_result"
    }
   ],
   "source": [
    "#kernel=rbf\n",
    "model_li=SVC(kernel='rbf')\n",
    "model_li.fit(x_train,y_train)\n",
    "pred_li=model_li.predict(x_test)\n",
    "np.mean(pred_li==y_test)"
   ]
  },
  {
   "cell_type": "code",
   "execution_count": 56,
   "id": "8eec5b86",
   "metadata": {},
   "outputs": [
    {
     "data": {
      "text/plain": [
       "0.7838709677419354"
      ]
     },
     "execution_count": 56,
     "metadata": {},
     "output_type": "execute_result"
    }
   ],
   "source": [
    "#kernel=sigmoid\n",
    "model_li=SVC(kernel='sigmoid')\n",
    "model_li.fit(x_train,y_train)\n",
    "pred_li=model_li.predict(x_test)\n",
    "np.mean(pred_li==y_test)"
   ]
  },
  {
   "cell_type": "code",
   "execution_count": 57,
   "id": "17e01318",
   "metadata": {},
   "outputs": [
    {
     "data": {
      "text/plain": [
       "0.7709677419354839"
      ]
     },
     "execution_count": 57,
     "metadata": {},
     "output_type": "execute_result"
    }
   ],
   "source": [
    "#kernel=poly\n",
    "model_li=SVC(kernel='poly')\n",
    "model_li.fit(x_train,y_train)\n",
    "pred_li=model_li.predict(x_test)\n",
    "np.mean(pred_li==y_test)"
   ]
  },
  {
   "cell_type": "code",
   "execution_count": null,
   "id": "85fc61b8",
   "metadata": {},
   "outputs": [],
   "source": []
  }
 ],
 "metadata": {
  "kernelspec": {
   "display_name": "Python 3",
   "language": "python",
   "name": "python3"
  },
  "language_info": {
   "codemirror_mode": {
    "name": "ipython",
    "version": 3
   },
   "file_extension": ".py",
   "mimetype": "text/x-python",
   "name": "python",
   "nbconvert_exporter": "python",
   "pygments_lexer": "ipython3",
   "version": "3.8.8"
  }
 },
 "nbformat": 4,
 "nbformat_minor": 5
}
